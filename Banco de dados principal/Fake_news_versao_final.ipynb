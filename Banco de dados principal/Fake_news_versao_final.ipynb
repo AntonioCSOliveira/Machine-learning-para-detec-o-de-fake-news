{
  "nbformat": 4,
  "nbformat_minor": 0,
  "metadata": {
    "colab": {
      "provenance": []
    },
    "kernelspec": {
      "name": "python3",
      "display_name": "Python 3"
    },
    "language_info": {
      "name": "python"
    }
  },
  "cells": [
    {
      "cell_type": "code",
      "execution_count": null,
      "metadata": {
        "id": "1B1_CfSqt8U7"
      },
      "outputs": [],
      "source": [
        "#Módulos básicos\n",
        "import pandas as pd\n",
        "import numpy as np\n",
        "import matplotlib.pyplot as plt\n",
        "\n",
        "# NLP bibliotecas para tratamento e limpeza do texto\n",
        "import nltk\n",
        "from nltk.stem.porter import PorterStemmer\n",
        "from nltk.tokenize import word_tokenize\n",
        "\n",
        "# Vetorização e aplicação do TF-IDF\n",
        "from sklearn.feature_extraction.text import TfidfTransformer\n",
        "from sklearn.feature_extraction.text import TfidfVectorizer\n",
        "from sklearn.feature_extraction.text import CountVectorizer\n",
        "from sklearn.linear_model import PassiveAggressiveClassifier\n",
        "import re\n",
        "\n",
        "#Verificando a eficacia do método e dividir o dataset\n",
        "from keras.models import Sequential\n",
        "import tensorflow as tf\n",
        "from keras.layers import Activation, Dense\n",
        "from sklearn.model_selection import train_test_split\n",
        "from sklearn.metrics import accuracy_score, confusion_matrix\n",
        "\n",
        "# Modelos e verificação de acurácia\n",
        "from sklearn.linear_model import LogisticRegression\n",
        "from sklearn.svm import SVC\n",
        "from sklearn.ensemble import RandomForestClassifier\n",
        "from sklearn.linear_model import LinearRegression\n",
        "from sklearn.tree import DecisionTreeClassifier\n",
        "from sklearn.neighbors import KNeighborsClassifier\n",
        "from sklearn.ensemble import AdaBoostClassifier\n",
        "from sklearn.datasets import make_classification\n",
        "from sklearn.metrics import accuracy_score, f1_score, precision_score, recall_score, classification_report, confusion_matrix\n",
        "\n",
        "#gráficos\n",
        "import seaborn as sns\n",
        "import matplotlib.pyplot as pyplot"
      ]
    },
    {
      "cell_type": "code",
      "source": [
        "from google.colab import drive\n",
        "drive.mount('/content/gdrive/', force_remount=True)"
      ],
      "metadata": {
        "colab": {
          "base_uri": "https://localhost:8080/"
        },
        "id": "3NMqat6auEOt",
        "outputId": "afa6643e-03e6-42cc-b06a-11962615d0c3"
      },
      "execution_count": null,
      "outputs": [
        {
          "output_type": "stream",
          "name": "stdout",
          "text": [
            "Mounted at /content/gdrive/\n"
          ]
        }
      ]
    },
    {
      "cell_type": "code",
      "source": [
        "dataframe = pd.read_csv(\"/content/gdrive/MyDrive/base_TCC.csv\", header = 0, index_col ='id', sep=';', dtype = {\"classificacao\" : \"str\"})"
      ],
      "metadata": {
        "id": "4D9qT3LtuERV"
      },
      "execution_count": null,
      "outputs": []
    },
    {
      "cell_type": "code",
      "source": [
        "type(dataframe)"
      ],
      "metadata": {
        "colab": {
          "base_uri": "https://localhost:8080/"
        },
        "id": "w8Z6qw3WuES9",
        "outputId": "4fff6827-46ae-4455-c7dd-1259186bad04"
      },
      "execution_count": null,
      "outputs": [
        {
          "output_type": "execute_result",
          "data": {
            "text/plain": [
              "pandas.core.frame.DataFrame"
            ]
          },
          "metadata": {},
          "execution_count": 5
        }
      ]
    },
    {
      "cell_type": "code",
      "source": [
        "dataframe.columns"
      ],
      "metadata": {
        "colab": {
          "base_uri": "https://localhost:8080/"
        },
        "id": "OfB9AZyZuEXf",
        "outputId": "497e39d3-d10c-49dc-e3d5-5267696e4783"
      },
      "execution_count": null,
      "outputs": [
        {
          "output_type": "execute_result",
          "data": {
            "text/plain": [
              "Index(['noticia', 'classificacao'], dtype='object')"
            ]
          },
          "metadata": {},
          "execution_count": 4
        }
      ]
    },
    {
      "cell_type": "code",
      "source": [
        "dataframe"
      ],
      "metadata": {
        "colab": {
          "base_uri": "https://localhost:8080/",
          "height": 455
        },
        "id": "4rDi1OAUuEaG",
        "outputId": "a061f281-7276-45e0-bb3d-aa9b51fec7d2"
      },
      "execution_count": null,
      "outputs": [
        {
          "output_type": "execute_result",
          "data": {
            "text/plain": [
              "                                                 noticia classificacao\n",
              "id                                                                    \n",
              "0      \"Protección de la familia\"  Paraguai proíbe e...             1\n",
              "1      Em evento realizado nesta terça-feira para div...             0\n",
              "2      Cientistas testemunham as origens de ouro atra...             1\n",
              "3      ﻿Após o prefeito de Manaus Arthur Virgílio (PS...             0\n",
              "4      Angélica apoia exposição do \"homem nu\" e inter...             1\n",
              "...                                                  ...           ...\n",
              "11938  Depois de ter sugerido em sua página no Facebo...             1\n",
              "11939   Sem conseguir emprego desde que concluiu a fa...             0\n",
              "11940  A top model aposentada Gisele Bündchen complet...             1\n",
              "11941   O Ministério da Educação () divulgou nesta qu...             0\n",
              "11942  A polêmica provocada pelas declarações da atri...             1\n",
              "\n",
              "[11950 rows x 2 columns]"
            ],
            "text/html": [
              "\n",
              "  <div id=\"df-88ea44da-c374-45d3-ac9e-a1241a8d80e2\">\n",
              "    <div class=\"colab-df-container\">\n",
              "      <div>\n",
              "<style scoped>\n",
              "    .dataframe tbody tr th:only-of-type {\n",
              "        vertical-align: middle;\n",
              "    }\n",
              "\n",
              "    .dataframe tbody tr th {\n",
              "        vertical-align: top;\n",
              "    }\n",
              "\n",
              "    .dataframe thead th {\n",
              "        text-align: right;\n",
              "    }\n",
              "</style>\n",
              "<table border=\"1\" class=\"dataframe\">\n",
              "  <thead>\n",
              "    <tr style=\"text-align: right;\">\n",
              "      <th></th>\n",
              "      <th>noticia</th>\n",
              "      <th>classificacao</th>\n",
              "    </tr>\n",
              "    <tr>\n",
              "      <th>id</th>\n",
              "      <th></th>\n",
              "      <th></th>\n",
              "    </tr>\n",
              "  </thead>\n",
              "  <tbody>\n",
              "    <tr>\n",
              "      <th>0</th>\n",
              "      <td>\"Protección de la familia\"  Paraguai proíbe e...</td>\n",
              "      <td>1</td>\n",
              "    </tr>\n",
              "    <tr>\n",
              "      <th>1</th>\n",
              "      <td>Em evento realizado nesta terça-feira para div...</td>\n",
              "      <td>0</td>\n",
              "    </tr>\n",
              "    <tr>\n",
              "      <th>2</th>\n",
              "      <td>Cientistas testemunham as origens de ouro atra...</td>\n",
              "      <td>1</td>\n",
              "    </tr>\n",
              "    <tr>\n",
              "      <th>3</th>\n",
              "      <td>﻿Após o prefeito de Manaus Arthur Virgílio (PS...</td>\n",
              "      <td>0</td>\n",
              "    </tr>\n",
              "    <tr>\n",
              "      <th>4</th>\n",
              "      <td>Angélica apoia exposição do \"homem nu\" e inter...</td>\n",
              "      <td>1</td>\n",
              "    </tr>\n",
              "    <tr>\n",
              "      <th>...</th>\n",
              "      <td>...</td>\n",
              "      <td>...</td>\n",
              "    </tr>\n",
              "    <tr>\n",
              "      <th>11938</th>\n",
              "      <td>Depois de ter sugerido em sua página no Facebo...</td>\n",
              "      <td>1</td>\n",
              "    </tr>\n",
              "    <tr>\n",
              "      <th>11939</th>\n",
              "      <td>Sem conseguir emprego desde que concluiu a fa...</td>\n",
              "      <td>0</td>\n",
              "    </tr>\n",
              "    <tr>\n",
              "      <th>11940</th>\n",
              "      <td>A top model aposentada Gisele Bündchen complet...</td>\n",
              "      <td>1</td>\n",
              "    </tr>\n",
              "    <tr>\n",
              "      <th>11941</th>\n",
              "      <td>O Ministério da Educação () divulgou nesta qu...</td>\n",
              "      <td>0</td>\n",
              "    </tr>\n",
              "    <tr>\n",
              "      <th>11942</th>\n",
              "      <td>A polêmica provocada pelas declarações da atri...</td>\n",
              "      <td>1</td>\n",
              "    </tr>\n",
              "  </tbody>\n",
              "</table>\n",
              "<p>11950 rows × 2 columns</p>\n",
              "</div>\n",
              "      <button class=\"colab-df-convert\" onclick=\"convertToInteractive('df-88ea44da-c374-45d3-ac9e-a1241a8d80e2')\"\n",
              "              title=\"Convert this dataframe to an interactive table.\"\n",
              "              style=\"display:none;\">\n",
              "        \n",
              "  <svg xmlns=\"http://www.w3.org/2000/svg\" height=\"24px\"viewBox=\"0 0 24 24\"\n",
              "       width=\"24px\">\n",
              "    <path d=\"M0 0h24v24H0V0z\" fill=\"none\"/>\n",
              "    <path d=\"M18.56 5.44l.94 2.06.94-2.06 2.06-.94-2.06-.94-.94-2.06-.94 2.06-2.06.94zm-11 1L8.5 8.5l.94-2.06 2.06-.94-2.06-.94L8.5 2.5l-.94 2.06-2.06.94zm10 10l.94 2.06.94-2.06 2.06-.94-2.06-.94-.94-2.06-.94 2.06-2.06.94z\"/><path d=\"M17.41 7.96l-1.37-1.37c-.4-.4-.92-.59-1.43-.59-.52 0-1.04.2-1.43.59L10.3 9.45l-7.72 7.72c-.78.78-.78 2.05 0 2.83L4 21.41c.39.39.9.59 1.41.59.51 0 1.02-.2 1.41-.59l7.78-7.78 2.81-2.81c.8-.78.8-2.07 0-2.86zM5.41 20L4 18.59l7.72-7.72 1.47 1.35L5.41 20z\"/>\n",
              "  </svg>\n",
              "      </button>\n",
              "      \n",
              "  <style>\n",
              "    .colab-df-container {\n",
              "      display:flex;\n",
              "      flex-wrap:wrap;\n",
              "      gap: 12px;\n",
              "    }\n",
              "\n",
              "    .colab-df-convert {\n",
              "      background-color: #E8F0FE;\n",
              "      border: none;\n",
              "      border-radius: 50%;\n",
              "      cursor: pointer;\n",
              "      display: none;\n",
              "      fill: #1967D2;\n",
              "      height: 32px;\n",
              "      padding: 0 0 0 0;\n",
              "      width: 32px;\n",
              "    }\n",
              "\n",
              "    .colab-df-convert:hover {\n",
              "      background-color: #E2EBFA;\n",
              "      box-shadow: 0px 1px 2px rgba(60, 64, 67, 0.3), 0px 1px 3px 1px rgba(60, 64, 67, 0.15);\n",
              "      fill: #174EA6;\n",
              "    }\n",
              "\n",
              "    [theme=dark] .colab-df-convert {\n",
              "      background-color: #3B4455;\n",
              "      fill: #D2E3FC;\n",
              "    }\n",
              "\n",
              "    [theme=dark] .colab-df-convert:hover {\n",
              "      background-color: #434B5C;\n",
              "      box-shadow: 0px 1px 3px 1px rgba(0, 0, 0, 0.15);\n",
              "      filter: drop-shadow(0px 1px 2px rgba(0, 0, 0, 0.3));\n",
              "      fill: #FFFFFF;\n",
              "    }\n",
              "  </style>\n",
              "\n",
              "      <script>\n",
              "        const buttonEl =\n",
              "          document.querySelector('#df-88ea44da-c374-45d3-ac9e-a1241a8d80e2 button.colab-df-convert');\n",
              "        buttonEl.style.display =\n",
              "          google.colab.kernel.accessAllowed ? 'block' : 'none';\n",
              "\n",
              "        async function convertToInteractive(key) {\n",
              "          const element = document.querySelector('#df-88ea44da-c374-45d3-ac9e-a1241a8d80e2');\n",
              "          const dataTable =\n",
              "            await google.colab.kernel.invokeFunction('convertToInteractive',\n",
              "                                                     [key], {});\n",
              "          if (!dataTable) return;\n",
              "\n",
              "          const docLinkHtml = 'Like what you see? Visit the ' +\n",
              "            '<a target=\"_blank\" href=https://colab.research.google.com/notebooks/data_table.ipynb>data table notebook</a>'\n",
              "            + ' to learn more about interactive tables.';\n",
              "          element.innerHTML = '';\n",
              "          dataTable['output_type'] = 'display_data';\n",
              "          await google.colab.output.renderOutput(dataTable, element);\n",
              "          const docLink = document.createElement('div');\n",
              "          docLink.innerHTML = docLinkHtml;\n",
              "          element.appendChild(docLink);\n",
              "        }\n",
              "      </script>\n",
              "    </div>\n",
              "  </div>\n",
              "  "
            ]
          },
          "metadata": {},
          "execution_count": 5
        }
      ]
    },
    {
      "cell_type": "code",
      "source": [
        "df = dataframe.copy()"
      ],
      "metadata": {
        "id": "beCy6-u2uEbv"
      },
      "execution_count": null,
      "outputs": []
    },
    {
      "cell_type": "code",
      "source": [
        "df.isnull().sum()"
      ],
      "metadata": {
        "colab": {
          "base_uri": "https://localhost:8080/"
        },
        "id": "w1Yba8hCuEe-",
        "outputId": "dc63d7c0-614b-4e33-e237-4b9b78742cc1"
      },
      "execution_count": null,
      "outputs": [
        {
          "output_type": "execute_result",
          "data": {
            "text/plain": [
              "noticia           1\n",
              "classificacao    14\n",
              "dtype: int64"
            ]
          },
          "metadata": {},
          "execution_count": 7
        }
      ]
    },
    {
      "cell_type": "code",
      "source": [
        "#Removendo os valores vazios e erros no dataset\n",
        "df['noticia'] = df['noticia'].fillna('')\n",
        "df['classificacao'] = df['classificacao'].fillna('')"
      ],
      "metadata": {
        "id": "SJvrZdK1uEhn"
      },
      "execution_count": null,
      "outputs": []
    },
    {
      "cell_type": "code",
      "source": [
        "df.isnull().sum()"
      ],
      "metadata": {
        "colab": {
          "base_uri": "https://localhost:8080/"
        },
        "id": "fuidt19Uyd-S",
        "outputId": "7f1e5324-ef4f-4b5a-9c59-25c722e5895d"
      },
      "execution_count": null,
      "outputs": [
        {
          "output_type": "execute_result",
          "data": {
            "text/plain": [
              "noticia          0\n",
              "classificacao    0\n",
              "dtype: int64"
            ]
          },
          "metadata": {},
          "execution_count": 9
        }
      ]
    },
    {
      "cell_type": "code",
      "source": [
        "#Stemmer e removendo stopwords\n",
        "\n",
        "ps = PorterStemmer()\n",
        "def wordopt(text):\n",
        "    text = text.lower()\n",
        "    text = re.sub('[^a-zA-Z]', ' ',text)\n",
        "    text = text.split()\n",
        "    text = ' '.join(text)\n",
        "    return text"
      ],
      "metadata": {
        "id": "uxHI4v2juEjQ"
      },
      "execution_count": null,
      "outputs": []
    },
    {
      "cell_type": "code",
      "source": [
        "df['noticia'] = df['noticia'].apply(lambda x:wordopt(x))"
      ],
      "metadata": {
        "id": "o3C-9Caq8vlA"
      },
      "execution_count": null,
      "outputs": []
    },
    {
      "cell_type": "code",
      "source": [
        "df.head()"
      ],
      "metadata": {
        "colab": {
          "base_uri": "https://localhost:8080/",
          "height": 238
        },
        "id": "NXglz8u38vjb",
        "outputId": "9a21e190-94db-4ca4-f574-6a86e3c23a32"
      },
      "execution_count": null,
      "outputs": [
        {
          "output_type": "execute_result",
          "data": {
            "text/plain": [
              "                                              noticia classificacao\n",
              "id                                                                 \n",
              "0   protecci n de la familia paraguai pro be escol...             1\n",
              "1   em evento realizado nesta ter a feira para div...             0\n",
              "2   cientistas testemunham as origens de ouro atra...             1\n",
              "3   ap s o prefeito de manaus arthur virg lio psdb...             0\n",
              "4   ang lica apoia exposi o do homem nu e internau...             1"
            ],
            "text/html": [
              "\n",
              "  <div id=\"df-1cf1583a-d56f-49c8-a802-4c8b01d4f4e6\">\n",
              "    <div class=\"colab-df-container\">\n",
              "      <div>\n",
              "<style scoped>\n",
              "    .dataframe tbody tr th:only-of-type {\n",
              "        vertical-align: middle;\n",
              "    }\n",
              "\n",
              "    .dataframe tbody tr th {\n",
              "        vertical-align: top;\n",
              "    }\n",
              "\n",
              "    .dataframe thead th {\n",
              "        text-align: right;\n",
              "    }\n",
              "</style>\n",
              "<table border=\"1\" class=\"dataframe\">\n",
              "  <thead>\n",
              "    <tr style=\"text-align: right;\">\n",
              "      <th></th>\n",
              "      <th>noticia</th>\n",
              "      <th>classificacao</th>\n",
              "    </tr>\n",
              "    <tr>\n",
              "      <th>id</th>\n",
              "      <th></th>\n",
              "      <th></th>\n",
              "    </tr>\n",
              "  </thead>\n",
              "  <tbody>\n",
              "    <tr>\n",
              "      <th>0</th>\n",
              "      <td>protecci n de la familia paraguai pro be escol...</td>\n",
              "      <td>1</td>\n",
              "    </tr>\n",
              "    <tr>\n",
              "      <th>1</th>\n",
              "      <td>em evento realizado nesta ter a feira para div...</td>\n",
              "      <td>0</td>\n",
              "    </tr>\n",
              "    <tr>\n",
              "      <th>2</th>\n",
              "      <td>cientistas testemunham as origens de ouro atra...</td>\n",
              "      <td>1</td>\n",
              "    </tr>\n",
              "    <tr>\n",
              "      <th>3</th>\n",
              "      <td>ap s o prefeito de manaus arthur virg lio psdb...</td>\n",
              "      <td>0</td>\n",
              "    </tr>\n",
              "    <tr>\n",
              "      <th>4</th>\n",
              "      <td>ang lica apoia exposi o do homem nu e internau...</td>\n",
              "      <td>1</td>\n",
              "    </tr>\n",
              "  </tbody>\n",
              "</table>\n",
              "</div>\n",
              "      <button class=\"colab-df-convert\" onclick=\"convertToInteractive('df-1cf1583a-d56f-49c8-a802-4c8b01d4f4e6')\"\n",
              "              title=\"Convert this dataframe to an interactive table.\"\n",
              "              style=\"display:none;\">\n",
              "        \n",
              "  <svg xmlns=\"http://www.w3.org/2000/svg\" height=\"24px\"viewBox=\"0 0 24 24\"\n",
              "       width=\"24px\">\n",
              "    <path d=\"M0 0h24v24H0V0z\" fill=\"none\"/>\n",
              "    <path d=\"M18.56 5.44l.94 2.06.94-2.06 2.06-.94-2.06-.94-.94-2.06-.94 2.06-2.06.94zm-11 1L8.5 8.5l.94-2.06 2.06-.94-2.06-.94L8.5 2.5l-.94 2.06-2.06.94zm10 10l.94 2.06.94-2.06 2.06-.94-2.06-.94-.94-2.06-.94 2.06-2.06.94z\"/><path d=\"M17.41 7.96l-1.37-1.37c-.4-.4-.92-.59-1.43-.59-.52 0-1.04.2-1.43.59L10.3 9.45l-7.72 7.72c-.78.78-.78 2.05 0 2.83L4 21.41c.39.39.9.59 1.41.59.51 0 1.02-.2 1.41-.59l7.78-7.78 2.81-2.81c.8-.78.8-2.07 0-2.86zM5.41 20L4 18.59l7.72-7.72 1.47 1.35L5.41 20z\"/>\n",
              "  </svg>\n",
              "      </button>\n",
              "      \n",
              "  <style>\n",
              "    .colab-df-container {\n",
              "      display:flex;\n",
              "      flex-wrap:wrap;\n",
              "      gap: 12px;\n",
              "    }\n",
              "\n",
              "    .colab-df-convert {\n",
              "      background-color: #E8F0FE;\n",
              "      border: none;\n",
              "      border-radius: 50%;\n",
              "      cursor: pointer;\n",
              "      display: none;\n",
              "      fill: #1967D2;\n",
              "      height: 32px;\n",
              "      padding: 0 0 0 0;\n",
              "      width: 32px;\n",
              "    }\n",
              "\n",
              "    .colab-df-convert:hover {\n",
              "      background-color: #E2EBFA;\n",
              "      box-shadow: 0px 1px 2px rgba(60, 64, 67, 0.3), 0px 1px 3px 1px rgba(60, 64, 67, 0.15);\n",
              "      fill: #174EA6;\n",
              "    }\n",
              "\n",
              "    [theme=dark] .colab-df-convert {\n",
              "      background-color: #3B4455;\n",
              "      fill: #D2E3FC;\n",
              "    }\n",
              "\n",
              "    [theme=dark] .colab-df-convert:hover {\n",
              "      background-color: #434B5C;\n",
              "      box-shadow: 0px 1px 3px 1px rgba(0, 0, 0, 0.15);\n",
              "      filter: drop-shadow(0px 1px 2px rgba(0, 0, 0, 0.3));\n",
              "      fill: #FFFFFF;\n",
              "    }\n",
              "  </style>\n",
              "\n",
              "      <script>\n",
              "        const buttonEl =\n",
              "          document.querySelector('#df-1cf1583a-d56f-49c8-a802-4c8b01d4f4e6 button.colab-df-convert');\n",
              "        buttonEl.style.display =\n",
              "          google.colab.kernel.accessAllowed ? 'block' : 'none';\n",
              "\n",
              "        async function convertToInteractive(key) {\n",
              "          const element = document.querySelector('#df-1cf1583a-d56f-49c8-a802-4c8b01d4f4e6');\n",
              "          const dataTable =\n",
              "            await google.colab.kernel.invokeFunction('convertToInteractive',\n",
              "                                                     [key], {});\n",
              "          if (!dataTable) return;\n",
              "\n",
              "          const docLinkHtml = 'Like what you see? Visit the ' +\n",
              "            '<a target=\"_blank\" href=https://colab.research.google.com/notebooks/data_table.ipynb>data table notebook</a>'\n",
              "            + ' to learn more about interactive tables.';\n",
              "          element.innerHTML = '';\n",
              "          dataTable['output_type'] = 'display_data';\n",
              "          await google.colab.output.renderOutput(dataTable, element);\n",
              "          const docLink = document.createElement('div');\n",
              "          docLink.innerHTML = docLinkHtml;\n",
              "          element.appendChild(docLink);\n",
              "        }\n",
              "      </script>\n",
              "    </div>\n",
              "  </div>\n",
              "  "
            ]
          },
          "metadata": {},
          "execution_count": 12
        }
      ]
    },
    {
      "cell_type": "code",
      "source": [
        "X = df['noticia']\n",
        "Y = df['classificacao']"
      ],
      "metadata": {
        "id": "e8I3YoLo8vgw"
      },
      "execution_count": null,
      "outputs": []
    },
    {
      "cell_type": "code",
      "source": [
        "# Calculando o TF-IDF score do dataframe.\n",
        "XV = TfidfVectorizer().fit_transform(X)"
      ],
      "metadata": {
        "id": "ue_f_2oa8veX"
      },
      "execution_count": null,
      "outputs": []
    },
    {
      "cell_type": "code",
      "source": [
        "XV.shape"
      ],
      "metadata": {
        "colab": {
          "base_uri": "https://localhost:8080/"
        },
        "id": "C6GmH2Dc8vcv",
        "outputId": "67b5ba21-cbc6-4399-a2ac-1c97f3c2fd78"
      },
      "execution_count": null,
      "outputs": [
        {
          "output_type": "execute_result",
          "data": {
            "text/plain": [
              "(11950, 90439)"
            ]
          },
          "metadata": {},
          "execution_count": 15
        }
      ]
    },
    {
      "cell_type": "code",
      "source": [
        "#Separando as informações entre treinamento e teste\n",
        "x_train, x_test, y_train, y_test = train_test_split(XV, Y, test_size=0.25, random_state=5)"
      ],
      "metadata": {
        "id": "WjkKSogo8vaH"
      },
      "execution_count": null,
      "outputs": []
    },
    {
      "cell_type": "code",
      "source": [
        "print(type(x_train))\n",
        "print(type(y_train))"
      ],
      "metadata": {
        "colab": {
          "base_uri": "https://localhost:8080/"
        },
        "id": "yL1mN8kW8vWf",
        "outputId": "ca5553a8-d7d9-4cd4-936d-a779d23b1373"
      },
      "execution_count": null,
      "outputs": [
        {
          "output_type": "stream",
          "name": "stdout",
          "text": [
            "<class 'scipy.sparse._csr.csr_matrix'>\n",
            "<class 'pandas.core.series.Series'>\n"
          ]
        }
      ]
    },
    {
      "cell_type": "code",
      "source": [
        "df = df.reset_index()"
      ],
      "metadata": {
        "id": "JB68kkK98vU3"
      },
      "execution_count": null,
      "outputs": []
    },
    {
      "cell_type": "code",
      "source": [
        "dt_model = DecisionTreeClassifier(criterion='gini', min_samples_leaf = 16, random_state=1)\n",
        "\n",
        "#Fitting training set to the model\n",
        "dt_model.fit(x_train,y_train)\n",
        "\n",
        "#Predicting the test set results based on the model\n",
        "dt_y_pred = dt_model.predict(x_test)\n",
        "\n",
        "#Calculate the accuracy score of this model\n",
        "score_dt = accuracy_score(y_test,dt_y_pred)\n",
        "print('Accuracy of Logistic Regression model is: ',round(score_dt*100,2),'%')\n",
        "# calculate prediction\n",
        "precision_dt = precision_score(y_test, dt_y_pred, average = 'weighted')\n",
        "print('Precision of Logistic Regression model is: ',round(precision_dt*100,2),'%')\n",
        "# calculate f1 score\n",
        "f1_dt = f1_score(y_test, dt_y_pred, average = 'weighted')\n",
        "print('F1 score of Logistic Regression model is: ',round(f1_dt*100,2),'%')\n",
        "# calculate recall\n",
        "recall_dt = recall_score(y_test, dt_y_pred, average='weighted')\n",
        "print('recall  score of Logistic Regression model is: ',round(recall_dt*100,2),'%')"
      ],
      "metadata": {
        "id": "uxVYtFz68vNH",
        "colab": {
          "base_uri": "https://localhost:8080/"
        },
        "outputId": "3c1c5e69-19ed-4cd5-c7ce-8ca5bbee3d3f"
      },
      "execution_count": null,
      "outputs": [
        {
          "output_type": "stream",
          "name": "stdout",
          "text": [
            "Accuracy of Logistic Regression model is:  89.93 %\n",
            "Precision of Logistic Regression model is:  89.87 %\n",
            "F1 score of Logistic Regression model is:  89.9 %\n",
            "recall  score of Logistic Regression model is:  89.93 %\n"
          ]
        },
        {
          "output_type": "stream",
          "name": "stderr",
          "text": [
            "/usr/local/lib/python3.9/dist-packages/sklearn/metrics/_classification.py:1344: UndefinedMetricWarning: Precision is ill-defined and being set to 0.0 in labels with no predicted samples. Use `zero_division` parameter to control this behavior.\n",
            "  _warn_prf(average, modifier, msg_start, len(result))\n"
          ]
        }
      ]
    },
    {
      "cell_type": "code",
      "source": [
        "#utilizando random forest\n",
        "\n",
        "RFC_model = RandomForestClassifier(criterion='gini', n_estimators=1000, max_depth=200, \n",
        "                                   min_samples_leaf=5, max_features = 'auto', random_state=1)\n",
        "#Fitting training set to the model\n",
        "RFC_model.fit(x_train, y_train)\n",
        "\n",
        "#Predicting the test set results based on the model\n",
        "rfc_y_pred = RFC_model.predict(x_test)\n",
        "\n",
        "#Calculate the accuracy score of this model\n",
        "score_rf = accuracy_score(y_test, rfc_y_pred)\n",
        "print('Accuracy of random forest model is: ',round(score_rf*100,2),'%')\n",
        "# calculate prediction\n",
        "precision_rf = precision_score(y_test, rfc_y_pred, average = 'weighted', labels=np.unique(rfc_y_pred))\n",
        "print('Precision of random forest model is: ',round(precision_rf*100,2),'%')\n",
        "# calculate f1 score\n",
        "f1_rf = f1_score(y_test, rfc_y_pred, average = 'weighted', labels=np.unique(rfc_y_pred))\n",
        "print('F1 score of random forest model is: ',round(f1_rf*100,2),'%')\n",
        "# calculate recall\n",
        "recall_rf = recall_score(y_test, rfc_y_pred, average='weighted', labels=np.unique(rfc_y_pred))\n",
        "print('recall  scoreof random forest model is: ',round(recall_rf*100,2),'%')"
      ],
      "metadata": {
        "colab": {
          "base_uri": "https://localhost:8080/"
        },
        "id": "m2IENPoO8vSP",
        "outputId": "1cace70a-f0fa-47b8-fb11-5cdb15269d38"
      },
      "execution_count": null,
      "outputs": [
        {
          "output_type": "stream",
          "name": "stderr",
          "text": [
            "/usr/local/lib/python3.9/dist-packages/sklearn/ensemble/_forest.py:424: FutureWarning: `max_features='auto'` has been deprecated in 1.1 and will be removed in 1.3. To keep the past behaviour, explicitly set `max_features='sqrt'` or remove this parameter as it is also the default value for RandomForestClassifiers and ExtraTreesClassifiers.\n",
            "  warn(\n"
          ]
        },
        {
          "output_type": "stream",
          "name": "stdout",
          "text": [
            "Accuracy of random forest model is:  92.7 %\n",
            "Precision of random forest model is:  93.08 %\n",
            "F1 score of random forest model is:  92.72 %\n",
            "recall  scoreof random forest model is:  92.77 %\n"
          ]
        }
      ]
    },
    {
      "cell_type": "code",
      "source": [
        "kn_model = KNeighborsClassifier(n_neighbors=5, weights='uniform', algorithm='brute')\n",
        "\n",
        "#Fitting training set to the model\n",
        "kn_model.fit(x_train,y_train)\n",
        "\n",
        "#Predicting the test set results based on the model\n",
        "kn_y_pred = kn_model.predict(x_test)\n",
        "\n",
        "#Calculate the accuracy score of this model\n",
        "score_kn = accuracy_score(y_test,kn_y_pred)\n",
        "print('Accuracy of Logistic Regression model is: ',round(score_kn*100,2),'%')\n",
        "# calculate prediction\n",
        "precision_kn = precision_score(y_test, kn_y_pred, average = 'weighted')\n",
        "print('Precision of Logistic Regression model is: ',round(precision_kn*100,2),'%')\n",
        "# calculate f1 score\n",
        "f1_kn = f1_score(y_test, kn_y_pred, average = 'weighted')\n",
        "print('F1 score of Logistic Regression model is: ',round(f1_kn*100,2),'%')\n",
        "# calculate recall\n",
        "recall_kn = recall_score(y_test, kn_y_pred, average='weighted')\n",
        "print('recall  score of Logistic Regression model is: ',round(recall_kn*100,2),'%')"
      ],
      "metadata": {
        "id": "16Yw57Po8vLX",
        "colab": {
          "base_uri": "https://localhost:8080/"
        },
        "outputId": "b7d8377d-3be4-4ca1-c671-5de68d833231"
      },
      "execution_count": null,
      "outputs": [
        {
          "output_type": "stream",
          "name": "stdout",
          "text": [
            "Accuracy of Logistic Regression model is:  10.31 %\n",
            "Precision of Logistic Regression model is:  94.63 %\n",
            "F1 score of Logistic Regression model is:  17.17 %\n",
            "recall  score of Logistic Regression model is:  10.31 %\n"
          ]
        }
      ]
    },
    {
      "cell_type": "code",
      "source": [
        "# Treinando um modelo SVM utilizando SVC\n",
        "SVM_model = svm.SVC(C=5, kernel='sigmoid', gamma='scale', probability=False, tol=0.001, cache_size=1000, random_state=1)\n",
        "\n",
        "#Fitting training set to the model\n",
        "SVM_model.fit(x_train,y_train)\n",
        "\n",
        "#Predicting the test set results based on the model\n",
        "SVM_y_pred = SVM_model.predict(x_test)\n",
        "\n",
        "#Calculate the accuracy score of this model\n",
        "score_SVM = accuracy_score(y_test,SVM_y_pred)\n",
        "print('Accuracy of Logistic Regression model is: ',round(score_SVM*100,2),'%')\n",
        "# calculate prediction\n",
        "precision_SVM = precision_score(y_test, SVM_y_pred, average = 'weighted')\n",
        "print('Precision of Logistic Regression model is: ',round(precision_SVM*100,2),'%')\n",
        "# calculate f1 score\n",
        "f1_SVM = f1_score(y_test, SVM_y_pred, average = 'weighted')\n",
        "print('F1 score of Logistic Regression model is: ',round(f1_SVM*100,2),'%')\n",
        "# calculate recall\n",
        "recall_SVM = recall_score(y_test, SVM_y_pred, average='weighted')\n",
        "print('recall  score of Logistic Regression model is: ',round(recall_SVM*100,2),'%')"
      ],
      "metadata": {
        "id": "4_o5euAU9GgP",
        "colab": {
          "base_uri": "https://localhost:8080/"
        },
        "outputId": "c9ddbfcd-312b-4aa8-9005-3758dbbbf2fc"
      },
      "execution_count": null,
      "outputs": [
        {
          "output_type": "stream",
          "name": "stdout",
          "text": [
            "Accuracy of Logistic Regression model is:  95.58 %\n",
            "Precision of Logistic Regression model is:  95.54 %\n",
            "F1 score of Logistic Regression model is:  95.55 %\n",
            "recall  score of Logistic Regression model is:  95.58 %\n"
          ]
        },
        {
          "output_type": "stream",
          "name": "stderr",
          "text": [
            "/usr/local/lib/python3.8/dist-packages/sklearn/metrics/_classification.py:1344: UndefinedMetricWarning: Precision is ill-defined and being set to 0.0 in labels with no predicted samples. Use `zero_division` parameter to control this behavior.\n",
            "  _warn_prf(average, modifier, msg_start, len(result))\n"
          ]
        }
      ]
    },
    {
      "cell_type": "code",
      "source": [
        "# Treinando um modelo utilizando regressão logistica\n",
        "LR_model = LogisticRegression(tol=0.0001, fit_intercept=False, class_weight=None, solver='lbfgs', max_iter=300, random_state=1)\n",
        "\n",
        "#Fitting training set to the model\n",
        "LR_model.fit(x_train,y_train)\n",
        "\n",
        "#Predicting the test set results based on the model\n",
        "lr_y_pred = LR_model.predict(x_test)\n",
        "\n",
        "#Calculate the accuracy score of this model\n",
        "score_lr = accuracy_score(y_test,lr_y_pred)\n",
        "print('Accuracy of Logistic Regression model is: ',round(score_lr*100,2),'%')\n",
        "# calculate prediction\n",
        "precision_lr = precision_score(y_test, lr_y_pred, average = 'weighted')\n",
        "print('Precision of Logistic Regression model is: ',round(precision_lr*100,2),'%')\n",
        "# calculate f1 score\n",
        "f1_lr = f1_score(y_test, lr_y_pred, average = 'weighted')\n",
        "print('F1 score of Logistic Regression model is: ',round(f1_lr*100,2),'%')\n",
        "# calculate recall\n",
        "recall_lr = recall_score(y_test, lr_y_pred, average='weighted')\n",
        "print('recall  score of Logistic Regression model is: ',round(recall_lr*100,2),'%')"
      ],
      "metadata": {
        "id": "rxf6O13Q9Gdn",
        "colab": {
          "base_uri": "https://localhost:8080/"
        },
        "outputId": "47658b3f-fd0b-4cfc-b649-7a74fdad4968"
      },
      "execution_count": null,
      "outputs": [
        {
          "output_type": "stream",
          "name": "stdout",
          "text": [
            "Accuracy of Logistic Regression model is:  93.51 %\n",
            "Precision of Logistic Regression model is:  93.64 %\n",
            "F1 score of Logistic Regression model is:  93.51 %\n",
            "recall  score of Logistic Regression model is:  93.51 %\n"
          ]
        }
      ]
    },
    {
      "cell_type": "code",
      "source": [
        "# Treinando um modelo utilizando classificação passiva agressiva\n",
        "PA_model = PassiveAggressiveClassifier(C = 10, max_iter=2000, n_iter_no_change = 600, random_state=1)\n",
        "\n",
        "#Fitting training set to the model\n",
        "PA_model.fit(x_train,y_train)\n",
        "\n",
        "#Predicting the test set results based on the model\n",
        "pa_y_pred = PA_model.predict(x_test)\n",
        "\n",
        "#Calculate the accuracy score of this model\n",
        "score_pa = accuracy_score(y_test,pa_y_pred)\n",
        "print('Accuracy of Logistic Regression model is: ',round(score_pa*100,2),'%')\n",
        "# calculate prediction\n",
        "precision_pa = precision_score(y_test, pa_y_pred, average = 'weighted')\n",
        "print('Precision of Logistic Regression model is: ',round(precision_pa*100,2),'%')\n",
        "# calculate f1 score\n",
        "f1_pa = f1_score(y_test, pa_y_pred, average = 'weighted')\n",
        "print('F1 score of Logistic Regression model is: ',round(f1_pa*100,2),'%')\n",
        "# calculate recall\n",
        "recall_pa = recall_score(y_test, pa_y_pred, average='weighted')\n",
        "print('recall  score of Logistic Regression model is: ',round(recall_pa*100,2),'%')"
      ],
      "metadata": {
        "id": "R0XFDUAn9GLw",
        "colab": {
          "base_uri": "https://localhost:8080/"
        },
        "outputId": "6a52e8cf-c2cd-4c91-9827-764b3595a42f"
      },
      "execution_count": null,
      "outputs": [
        {
          "output_type": "stream",
          "name": "stdout",
          "text": [
            "Accuracy of Logistic Regression model is:  96.62 %\n",
            "Precision of Logistic Regression model is:  96.56 %\n",
            "F1 score of Logistic Regression model is:  96.59 %\n",
            "recall  score of Logistic Regression model is:  96.62 %\n"
          ]
        },
        {
          "output_type": "stream",
          "name": "stderr",
          "text": [
            "/usr/local/lib/python3.8/dist-packages/sklearn/metrics/_classification.py:1344: UndefinedMetricWarning: Precision is ill-defined and being set to 0.0 in labels with no predicted samples. Use `zero_division` parameter to control this behavior.\n",
            "  _warn_prf(average, modifier, msg_start, len(result))\n"
          ]
        }
      ]
    },
    {
      "cell_type": "code",
      "source": [
        "# Treinando um modelo utilizando Adabost\n",
        "from sklearn.ensemble import AdaBoostClassifier\n",
        "Adab_model = AdaBoostClassifier(n_estimators=100, learning_rate=0.8, algorithm='SAMME', random_state=1)\n",
        "\n",
        "#Fitting training set to the model\n",
        "Adab_model.fit(x_train,y_train)\n",
        "\n",
        "#Predicting the test set results based on the model\n",
        "Adab_y_pred = Adab_model.predict(x_test)\n",
        "\n",
        "#Calculate the accuracy score of this model\n",
        "score_Adab = accuracy_score(y_test,Adab_y_pred)\n",
        "print('Accuracy of Logistic Regression model is: ',round(score_Adab*100,2),'%')\n",
        "# calculate prediction\n",
        "precision_Adab = precision_score(y_test, Adab_y_pred, average = 'weighted')\n",
        "print('Precision of Logistic Regression model is: ',round(precision_Adab*100,2),'%')\n",
        "# calculate f1 score\n",
        "f1_Adab = f1_score(y_test, Adab_y_pred, average = 'weighted')\n",
        "print('F1 score of Logistic Regression model is: ',round(f1_Adab*100,2),'%')\n",
        "# calculate recall\n",
        "recall_Adab = recall_score(y_test, Adab_y_pred, average='weighted')\n",
        "print('recall  score of Logistic Regression model is: ',round(recall_Adab*100,2),'%')"
      ],
      "metadata": {
        "id": "IlS3vWfE9GKH",
        "colab": {
          "base_uri": "https://localhost:8080/"
        },
        "outputId": "330fe1b6-f3b9-4444-e3f3-9d1cd24dc6aa"
      },
      "execution_count": null,
      "outputs": [
        {
          "output_type": "stream",
          "name": "stdout",
          "text": [
            "Accuracy of Logistic Regression model is:  89.99 %\n",
            "Precision of Logistic Regression model is:  89.95 %\n",
            "F1 score of Logistic Regression model is:  89.96 %\n",
            "recall  score of Logistic Regression model is:  89.99 %\n"
          ]
        },
        {
          "output_type": "stream",
          "name": "stderr",
          "text": [
            "/usr/local/lib/python3.8/dist-packages/sklearn/metrics/_classification.py:1344: UndefinedMetricWarning: Precision is ill-defined and being set to 0.0 in labels with no predicted samples. Use `zero_division` parameter to control this behavior.\n",
            "  _warn_prf(average, modifier, msg_start, len(result))\n"
          ]
        }
      ]
    },
    {
      "cell_type": "code",
      "source": [
        "#Gráfico comparativo de F1 Score\n",
        "x_pos = ['Passive Agressive','Support Vector Machine','Logistic Regression', 'Randon Forest', 'AdaBoost', 'Decision Tree','K Nearest Neighbors']\n",
        "y_pos = [96.6,95.6,93.5,92.8,90.0, 89.9,8.3]\n",
        "\n",
        "fig, ax = plt.subplots(figsize=(10, 8))\n",
        "plt.rcParams['font.size'] = 16\n",
        "\n",
        "hbar = ax.barh(x_pos, y_pos, align='center', alpha=0.6, color = 'blue', capsize = 12)\n",
        "ax.set_xlabel('Em porcentagem %')\n",
        "ax.set_title('Comparativo do F1_score dos métodos utilizados')\n",
        "ax.grid(which='both', axis='x',linestyle='-.')\n",
        "\n",
        "# Label with specially formatted floats\n",
        "ax.bar_label(hbar, fmt='%.1f%%', size=14, label_type=\"edge\", padding=3)\n",
        "ax.set_xlim(right=110)  # adjust xlim to fit labels\n",
        "\n"
      ],
      "metadata": {
        "colab": {
          "base_uri": "https://localhost:8080/",
          "height": 537
        },
        "id": "spqnCjIfajP7",
        "outputId": "66f1545a-4404-4cb2-fcea-323843fc07ba"
      },
      "execution_count": null,
      "outputs": [
        {
          "output_type": "execute_result",
          "data": {
            "text/plain": [
              "(0.0, 110.0)"
            ]
          },
          "metadata": {},
          "execution_count": 2
        },
        {
          "output_type": "display_data",
          "data": {
            "text/plain": [
              "<Figure size 720x576 with 1 Axes>"
            ],
            "image/png": "[encoded data removed]"
          },
          "metadata": {
            "needs_background": "light"
          }
        }
      ]
    },
    {
      "cell_type": "markdown",
      "source": [
        "## Verificando a adaptabilidade do modelo a um cenário de um menor banco de dados."
      ],
      "metadata": {
        "id": "CPlPXZMOhZbb"
      }
    },
    {
      "cell_type": "code",
      "source": [
        "verdade2 = pd.read_excel('train2_true.xlsx')\n",
        "mentira2 = pd.read_excel('train2_false.xlsx')"
      ],
      "metadata": {
        "colab": {
          "base_uri": "https://localhost:8080/"
        },
        "id": "7jQbpOwTD5U0",
        "outputId": "a0c2c5c7-3208-4b02-d888-74f5e6979eb0"
      },
      "execution_count": null,
      "outputs": [
        {
          "output_type": "stream",
          "name": "stderr",
          "text": [
            "/usr/local/lib/python3.8/dist-packages/openpyxl/styles/stylesheet.py:226: UserWarning: Workbook contains no default style, apply openpyxl's default\n",
            "  warn(\"Workbook contains no default style, apply openpyxl's default\")\n"
          ]
        }
      ]
    },
    {
      "cell_type": "code",
      "source": [
        "verdade2.head()"
      ],
      "metadata": {
        "colab": {
          "base_uri": "https://localhost:8080/",
          "height": 206
        },
        "id": "1zsBQWylD5SE",
        "outputId": "3a3751d6-44fe-4b56-f339-349071462c49"
      },
      "execution_count": null,
      "outputs": [
        {
          "output_type": "execute_result",
          "data": {
            "text/plain": [
              "                                             noticia  classificacao\n",
              "0  As praias são de rio e a floresta é amazônica....              0\n",
              "1  Responsáveis por uma boa fatia do mercado de p...              0\n",
              "2  As despedidas de solteiro (a) fazem parte da p...              0\n",
              "3  Mar azul-turquesa, finas areias brancas, coque...              0\n",
              "4  Engana-se quem pensa que a Serra Gaúcha é melh...              0"
            ],
            "text/html": [
              "\n",
              "  <div id=\"df-37453070-2d90-45b9-a5e7-6715b6b0a5dd\">\n",
              "    <div class=\"colab-df-container\">\n",
              "      <div>\n",
              "<style scoped>\n",
              "    .dataframe tbody tr th:only-of-type {\n",
              "        vertical-align: middle;\n",
              "    }\n",
              "\n",
              "    .dataframe tbody tr th {\n",
              "        vertical-align: top;\n",
              "    }\n",
              "\n",
              "    .dataframe thead th {\n",
              "        text-align: right;\n",
              "    }\n",
              "</style>\n",
              "<table border=\"1\" class=\"dataframe\">\n",
              "  <thead>\n",
              "    <tr style=\"text-align: right;\">\n",
              "      <th></th>\n",
              "      <th>noticia</th>\n",
              "      <th>classificacao</th>\n",
              "    </tr>\n",
              "  </thead>\n",
              "  <tbody>\n",
              "    <tr>\n",
              "      <th>0</th>\n",
              "      <td>As praias são de rio e a floresta é amazônica....</td>\n",
              "      <td>0</td>\n",
              "    </tr>\n",
              "    <tr>\n",
              "      <th>1</th>\n",
              "      <td>Responsáveis por uma boa fatia do mercado de p...</td>\n",
              "      <td>0</td>\n",
              "    </tr>\n",
              "    <tr>\n",
              "      <th>2</th>\n",
              "      <td>As despedidas de solteiro (a) fazem parte da p...</td>\n",
              "      <td>0</td>\n",
              "    </tr>\n",
              "    <tr>\n",
              "      <th>3</th>\n",
              "      <td>Mar azul-turquesa, finas areias brancas, coque...</td>\n",
              "      <td>0</td>\n",
              "    </tr>\n",
              "    <tr>\n",
              "      <th>4</th>\n",
              "      <td>Engana-se quem pensa que a Serra Gaúcha é melh...</td>\n",
              "      <td>0</td>\n",
              "    </tr>\n",
              "  </tbody>\n",
              "</table>\n",
              "</div>\n",
              "      <button class=\"colab-df-convert\" onclick=\"convertToInteractive('df-37453070-2d90-45b9-a5e7-6715b6b0a5dd')\"\n",
              "              title=\"Convert this dataframe to an interactive table.\"\n",
              "              style=\"display:none;\">\n",
              "        \n",
              "  <svg xmlns=\"http://www.w3.org/2000/svg\" height=\"24px\"viewBox=\"0 0 24 24\"\n",
              "       width=\"24px\">\n",
              "    <path d=\"M0 0h24v24H0V0z\" fill=\"none\"/>\n",
              "    <path d=\"M18.56 5.44l.94 2.06.94-2.06 2.06-.94-2.06-.94-.94-2.06-.94 2.06-2.06.94zm-11 1L8.5 8.5l.94-2.06 2.06-.94-2.06-.94L8.5 2.5l-.94 2.06-2.06.94zm10 10l.94 2.06.94-2.06 2.06-.94-2.06-.94-.94-2.06-.94 2.06-2.06.94z\"/><path d=\"M17.41 7.96l-1.37-1.37c-.4-.4-.92-.59-1.43-.59-.52 0-1.04.2-1.43.59L10.3 9.45l-7.72 7.72c-.78.78-.78 2.05 0 2.83L4 21.41c.39.39.9.59 1.41.59.51 0 1.02-.2 1.41-.59l7.78-7.78 2.81-2.81c.8-.78.8-2.07 0-2.86zM5.41 20L4 18.59l7.72-7.72 1.47 1.35L5.41 20z\"/>\n",
              "  </svg>\n",
              "      </button>\n",
              "      \n",
              "  <style>\n",
              "    .colab-df-container {\n",
              "      display:flex;\n",
              "      flex-wrap:wrap;\n",
              "      gap: 12px;\n",
              "    }\n",
              "\n",
              "    .colab-df-convert {\n",
              "      background-color: #E8F0FE;\n",
              "      border: none;\n",
              "      border-radius: 50%;\n",
              "      cursor: pointer;\n",
              "      display: none;\n",
              "      fill: #1967D2;\n",
              "      height: 32px;\n",
              "      padding: 0 0 0 0;\n",
              "      width: 32px;\n",
              "    }\n",
              "\n",
              "    .colab-df-convert:hover {\n",
              "      background-color: #E2EBFA;\n",
              "      box-shadow: 0px 1px 2px rgba(60, 64, 67, 0.3), 0px 1px 3px 1px rgba(60, 64, 67, 0.15);\n",
              "      fill: #174EA6;\n",
              "    }\n",
              "\n",
              "    [theme=dark] .colab-df-convert {\n",
              "      background-color: #3B4455;\n",
              "      fill: #D2E3FC;\n",
              "    }\n",
              "\n",
              "    [theme=dark] .colab-df-convert:hover {\n",
              "      background-color: #434B5C;\n",
              "      box-shadow: 0px 1px 3px 1px rgba(0, 0, 0, 0.15);\n",
              "      filter: drop-shadow(0px 1px 2px rgba(0, 0, 0, 0.3));\n",
              "      fill: #FFFFFF;\n",
              "    }\n",
              "  </style>\n",
              "\n",
              "      <script>\n",
              "        const buttonEl =\n",
              "          document.querySelector('#df-37453070-2d90-45b9-a5e7-6715b6b0a5dd button.colab-df-convert');\n",
              "        buttonEl.style.display =\n",
              "          google.colab.kernel.accessAllowed ? 'block' : 'none';\n",
              "\n",
              "        async function convertToInteractive(key) {\n",
              "          const element = document.querySelector('#df-37453070-2d90-45b9-a5e7-6715b6b0a5dd');\n",
              "          const dataTable =\n",
              "            await google.colab.kernel.invokeFunction('convertToInteractive',\n",
              "                                                     [key], {});\n",
              "          if (!dataTable) return;\n",
              "\n",
              "          const docLinkHtml = 'Like what you see? Visit the ' +\n",
              "            '<a target=\"_blank\" href=https://colab.research.google.com/notebooks/data_table.ipynb>data table notebook</a>'\n",
              "            + ' to learn more about interactive tables.';\n",
              "          element.innerHTML = '';\n",
              "          dataTable['output_type'] = 'display_data';\n",
              "          await google.colab.output.renderOutput(dataTable, element);\n",
              "          const docLink = document.createElement('div');\n",
              "          docLink.innerHTML = docLinkHtml;\n",
              "          element.appendChild(docLink);\n",
              "        }\n",
              "      </script>\n",
              "    </div>\n",
              "  </div>\n",
              "  "
            ]
          },
          "metadata": {},
          "execution_count": 5
        }
      ]
    },
    {
      "cell_type": "code",
      "source": [
        "mentira2.head()"
      ],
      "metadata": {
        "colab": {
          "base_uri": "https://localhost:8080/",
          "height": 206
        },
        "id": "5ZE3c8xTD5Ln",
        "outputId": "37610937-7d9d-4661-de15-d0d6a07cebe0"
      },
      "execution_count": null,
      "outputs": [
        {
          "output_type": "execute_result",
          "data": {
            "text/plain": [
              "                                             noticia  classificacao\n",
              "0  GRÊMIO PUNITIVO UNIDOS DA PAPUDA – Carnaval é ...            1.0\n",
              "1  SELIC, WE HAVE A PROBLEM – “Já procuramos por ...            1.0\n",
              "2  ILHA DA FANTASIA- Crise na terra da magia. Com...            1.0\n",
              "3  COPOMZÃO – Já diz o ditado que o futebol é uma...            1.0\n",
              "4  TOP BUSINESS MODEL – Carnaval é época de fanta...            1.0"
            ],
            "text/html": [
              "\n",
              "  <div id=\"df-689a1811-9625-4d84-9342-119126e780e5\">\n",
              "    <div class=\"colab-df-container\">\n",
              "      <div>\n",
              "<style scoped>\n",
              "    .dataframe tbody tr th:only-of-type {\n",
              "        vertical-align: middle;\n",
              "    }\n",
              "\n",
              "    .dataframe tbody tr th {\n",
              "        vertical-align: top;\n",
              "    }\n",
              "\n",
              "    .dataframe thead th {\n",
              "        text-align: right;\n",
              "    }\n",
              "</style>\n",
              "<table border=\"1\" class=\"dataframe\">\n",
              "  <thead>\n",
              "    <tr style=\"text-align: right;\">\n",
              "      <th></th>\n",
              "      <th>noticia</th>\n",
              "      <th>classificacao</th>\n",
              "    </tr>\n",
              "  </thead>\n",
              "  <tbody>\n",
              "    <tr>\n",
              "      <th>0</th>\n",
              "      <td>GRÊMIO PUNITIVO UNIDOS DA PAPUDA – Carnaval é ...</td>\n",
              "      <td>1.0</td>\n",
              "    </tr>\n",
              "    <tr>\n",
              "      <th>1</th>\n",
              "      <td>SELIC, WE HAVE A PROBLEM – “Já procuramos por ...</td>\n",
              "      <td>1.0</td>\n",
              "    </tr>\n",
              "    <tr>\n",
              "      <th>2</th>\n",
              "      <td>ILHA DA FANTASIA- Crise na terra da magia. Com...</td>\n",
              "      <td>1.0</td>\n",
              "    </tr>\n",
              "    <tr>\n",
              "      <th>3</th>\n",
              "      <td>COPOMZÃO – Já diz o ditado que o futebol é uma...</td>\n",
              "      <td>1.0</td>\n",
              "    </tr>\n",
              "    <tr>\n",
              "      <th>4</th>\n",
              "      <td>TOP BUSINESS MODEL – Carnaval é época de fanta...</td>\n",
              "      <td>1.0</td>\n",
              "    </tr>\n",
              "  </tbody>\n",
              "</table>\n",
              "</div>\n",
              "      <button class=\"colab-df-convert\" onclick=\"convertToInteractive('df-689a1811-9625-4d84-9342-119126e780e5')\"\n",
              "              title=\"Convert this dataframe to an interactive table.\"\n",
              "              style=\"display:none;\">\n",
              "        \n",
              "  <svg xmlns=\"http://www.w3.org/2000/svg\" height=\"24px\"viewBox=\"0 0 24 24\"\n",
              "       width=\"24px\">\n",
              "    <path d=\"M0 0h24v24H0V0z\" fill=\"none\"/>\n",
              "    <path d=\"M18.56 5.44l.94 2.06.94-2.06 2.06-.94-2.06-.94-.94-2.06-.94 2.06-2.06.94zm-11 1L8.5 8.5l.94-2.06 2.06-.94-2.06-.94L8.5 2.5l-.94 2.06-2.06.94zm10 10l.94 2.06.94-2.06 2.06-.94-2.06-.94-.94-2.06-.94 2.06-2.06.94z\"/><path d=\"M17.41 7.96l-1.37-1.37c-.4-.4-.92-.59-1.43-.59-.52 0-1.04.2-1.43.59L10.3 9.45l-7.72 7.72c-.78.78-.78 2.05 0 2.83L4 21.41c.39.39.9.59 1.41.59.51 0 1.02-.2 1.41-.59l7.78-7.78 2.81-2.81c.8-.78.8-2.07 0-2.86zM5.41 20L4 18.59l7.72-7.72 1.47 1.35L5.41 20z\"/>\n",
              "  </svg>\n",
              "      </button>\n",
              "      \n",
              "  <style>\n",
              "    .colab-df-container {\n",
              "      display:flex;\n",
              "      flex-wrap:wrap;\n",
              "      gap: 12px;\n",
              "    }\n",
              "\n",
              "    .colab-df-convert {\n",
              "      background-color: #E8F0FE;\n",
              "      border: none;\n",
              "      border-radius: 50%;\n",
              "      cursor: pointer;\n",
              "      display: none;\n",
              "      fill: #1967D2;\n",
              "      height: 32px;\n",
              "      padding: 0 0 0 0;\n",
              "      width: 32px;\n",
              "    }\n",
              "\n",
              "    .colab-df-convert:hover {\n",
              "      background-color: #E2EBFA;\n",
              "      box-shadow: 0px 1px 2px rgba(60, 64, 67, 0.3), 0px 1px 3px 1px rgba(60, 64, 67, 0.15);\n",
              "      fill: #174EA6;\n",
              "    }\n",
              "\n",
              "    [theme=dark] .colab-df-convert {\n",
              "      background-color: #3B4455;\n",
              "      fill: #D2E3FC;\n",
              "    }\n",
              "\n",
              "    [theme=dark] .colab-df-convert:hover {\n",
              "      background-color: #434B5C;\n",
              "      box-shadow: 0px 1px 3px 1px rgba(0, 0, 0, 0.15);\n",
              "      filter: drop-shadow(0px 1px 2px rgba(0, 0, 0, 0.3));\n",
              "      fill: #FFFFFF;\n",
              "    }\n",
              "  </style>\n",
              "\n",
              "      <script>\n",
              "        const buttonEl =\n",
              "          document.querySelector('#df-689a1811-9625-4d84-9342-119126e780e5 button.colab-df-convert');\n",
              "        buttonEl.style.display =\n",
              "          google.colab.kernel.accessAllowed ? 'block' : 'none';\n",
              "\n",
              "        async function convertToInteractive(key) {\n",
              "          const element = document.querySelector('#df-689a1811-9625-4d84-9342-119126e780e5');\n",
              "          const dataTable =\n",
              "            await google.colab.kernel.invokeFunction('convertToInteractive',\n",
              "                                                     [key], {});\n",
              "          if (!dataTable) return;\n",
              "\n",
              "          const docLinkHtml = 'Like what you see? Visit the ' +\n",
              "            '<a target=\"_blank\" href=https://colab.research.google.com/notebooks/data_table.ipynb>data table notebook</a>'\n",
              "            + ' to learn more about interactive tables.';\n",
              "          element.innerHTML = '';\n",
              "          dataTable['output_type'] = 'display_data';\n",
              "          await google.colab.output.renderOutput(dataTable, element);\n",
              "          const docLink = document.createElement('div');\n",
              "          docLink.innerHTML = docLinkHtml;\n",
              "          element.appendChild(docLink);\n",
              "        }\n",
              "      </script>\n",
              "    </div>\n",
              "  </div>\n",
              "  "
            ]
          },
          "metadata": {},
          "execution_count": 6
        }
      ]
    },
    {
      "cell_type": "code",
      "source": [
        "print(verdade2.shape)\n",
        "print(mentira2.shape)"
      ],
      "metadata": {
        "colab": {
          "base_uri": "https://localhost:8080/"
        },
        "id": "mqyNLyfED5J2",
        "outputId": "8c803d92-9762-4c2d-bc19-8b4fbe4054c2"
      },
      "execution_count": null,
      "outputs": [
        {
          "output_type": "stream",
          "name": "stdout",
          "text": [
            "(105, 2)\n",
            "(95, 2)\n"
          ]
        }
      ]
    },
    {
      "cell_type": "code",
      "source": [
        "dataframe2 = pd.concat([verdade2,mentira2])\n",
        "dataframe2.head()"
      ],
      "metadata": {
        "colab": {
          "base_uri": "https://localhost:8080/",
          "height": 206
        },
        "id": "kn2gDRq1D5HQ",
        "outputId": "b3eb7011-f882-4318-88c3-4328706cdacf"
      },
      "execution_count": null,
      "outputs": [
        {
          "output_type": "execute_result",
          "data": {
            "text/plain": [
              "                                             noticia  classificacao\n",
              "0  As praias são de rio e a floresta é amazônica....            0.0\n",
              "1  Responsáveis por uma boa fatia do mercado de p...            0.0\n",
              "2  As despedidas de solteiro (a) fazem parte da p...            0.0\n",
              "3  Mar azul-turquesa, finas areias brancas, coque...            0.0\n",
              "4  Engana-se quem pensa que a Serra Gaúcha é melh...            0.0"
            ],
            "text/html": [
              "\n",
              "  <div id=\"df-a23ade0d-d250-42fa-8c3e-711d725c31f5\">\n",
              "    <div class=\"colab-df-container\">\n",
              "      <div>\n",
              "<style scoped>\n",
              "    .dataframe tbody tr th:only-of-type {\n",
              "        vertical-align: middle;\n",
              "    }\n",
              "\n",
              "    .dataframe tbody tr th {\n",
              "        vertical-align: top;\n",
              "    }\n",
              "\n",
              "    .dataframe thead th {\n",
              "        text-align: right;\n",
              "    }\n",
              "</style>\n",
              "<table border=\"1\" class=\"dataframe\">\n",
              "  <thead>\n",
              "    <tr style=\"text-align: right;\">\n",
              "      <th></th>\n",
              "      <th>noticia</th>\n",
              "      <th>classificacao</th>\n",
              "    </tr>\n",
              "  </thead>\n",
              "  <tbody>\n",
              "    <tr>\n",
              "      <th>0</th>\n",
              "      <td>As praias são de rio e a floresta é amazônica....</td>\n",
              "      <td>0.0</td>\n",
              "    </tr>\n",
              "    <tr>\n",
              "      <th>1</th>\n",
              "      <td>Responsáveis por uma boa fatia do mercado de p...</td>\n",
              "      <td>0.0</td>\n",
              "    </tr>\n",
              "    <tr>\n",
              "      <th>2</th>\n",
              "      <td>As despedidas de solteiro (a) fazem parte da p...</td>\n",
              "      <td>0.0</td>\n",
              "    </tr>\n",
              "    <tr>\n",
              "      <th>3</th>\n",
              "      <td>Mar azul-turquesa, finas areias brancas, coque...</td>\n",
              "      <td>0.0</td>\n",
              "    </tr>\n",
              "    <tr>\n",
              "      <th>4</th>\n",
              "      <td>Engana-se quem pensa que a Serra Gaúcha é melh...</td>\n",
              "      <td>0.0</td>\n",
              "    </tr>\n",
              "  </tbody>\n",
              "</table>\n",
              "</div>\n",
              "      <button class=\"colab-df-convert\" onclick=\"convertToInteractive('df-a23ade0d-d250-42fa-8c3e-711d725c31f5')\"\n",
              "              title=\"Convert this dataframe to an interactive table.\"\n",
              "              style=\"display:none;\">\n",
              "        \n",
              "  <svg xmlns=\"http://www.w3.org/2000/svg\" height=\"24px\"viewBox=\"0 0 24 24\"\n",
              "       width=\"24px\">\n",
              "    <path d=\"M0 0h24v24H0V0z\" fill=\"none\"/>\n",
              "    <path d=\"M18.56 5.44l.94 2.06.94-2.06 2.06-.94-2.06-.94-.94-2.06-.94 2.06-2.06.94zm-11 1L8.5 8.5l.94-2.06 2.06-.94-2.06-.94L8.5 2.5l-.94 2.06-2.06.94zm10 10l.94 2.06.94-2.06 2.06-.94-2.06-.94-.94-2.06-.94 2.06-2.06.94z\"/><path d=\"M17.41 7.96l-1.37-1.37c-.4-.4-.92-.59-1.43-.59-.52 0-1.04.2-1.43.59L10.3 9.45l-7.72 7.72c-.78.78-.78 2.05 0 2.83L4 21.41c.39.39.9.59 1.41.59.51 0 1.02-.2 1.41-.59l7.78-7.78 2.81-2.81c.8-.78.8-2.07 0-2.86zM5.41 20L4 18.59l7.72-7.72 1.47 1.35L5.41 20z\"/>\n",
              "  </svg>\n",
              "      </button>\n",
              "      \n",
              "  <style>\n",
              "    .colab-df-container {\n",
              "      display:flex;\n",
              "      flex-wrap:wrap;\n",
              "      gap: 12px;\n",
              "    }\n",
              "\n",
              "    .colab-df-convert {\n",
              "      background-color: #E8F0FE;\n",
              "      border: none;\n",
              "      border-radius: 50%;\n",
              "      cursor: pointer;\n",
              "      display: none;\n",
              "      fill: #1967D2;\n",
              "      height: 32px;\n",
              "      padding: 0 0 0 0;\n",
              "      width: 32px;\n",
              "    }\n",
              "\n",
              "    .colab-df-convert:hover {\n",
              "      background-color: #E2EBFA;\n",
              "      box-shadow: 0px 1px 2px rgba(60, 64, 67, 0.3), 0px 1px 3px 1px rgba(60, 64, 67, 0.15);\n",
              "      fill: #174EA6;\n",
              "    }\n",
              "\n",
              "    [theme=dark] .colab-df-convert {\n",
              "      background-color: #3B4455;\n",
              "      fill: #D2E3FC;\n",
              "    }\n",
              "\n",
              "    [theme=dark] .colab-df-convert:hover {\n",
              "      background-color: #434B5C;\n",
              "      box-shadow: 0px 1px 3px 1px rgba(0, 0, 0, 0.15);\n",
              "      filter: drop-shadow(0px 1px 2px rgba(0, 0, 0, 0.3));\n",
              "      fill: #FFFFFF;\n",
              "    }\n",
              "  </style>\n",
              "\n",
              "      <script>\n",
              "        const buttonEl =\n",
              "          document.querySelector('#df-a23ade0d-d250-42fa-8c3e-711d725c31f5 button.colab-df-convert');\n",
              "        buttonEl.style.display =\n",
              "          google.colab.kernel.accessAllowed ? 'block' : 'none';\n",
              "\n",
              "        async function convertToInteractive(key) {\n",
              "          const element = document.querySelector('#df-a23ade0d-d250-42fa-8c3e-711d725c31f5');\n",
              "          const dataTable =\n",
              "            await google.colab.kernel.invokeFunction('convertToInteractive',\n",
              "                                                     [key], {});\n",
              "          if (!dataTable) return;\n",
              "\n",
              "          const docLinkHtml = 'Like what you see? Visit the ' +\n",
              "            '<a target=\"_blank\" href=https://colab.research.google.com/notebooks/data_table.ipynb>data table notebook</a>'\n",
              "            + ' to learn more about interactive tables.';\n",
              "          element.innerHTML = '';\n",
              "          dataTable['output_type'] = 'display_data';\n",
              "          await google.colab.output.renderOutput(dataTable, element);\n",
              "          const docLink = document.createElement('div');\n",
              "          docLink.innerHTML = docLinkHtml;\n",
              "          element.appendChild(docLink);\n",
              "        }\n",
              "      </script>\n",
              "    </div>\n",
              "  </div>\n",
              "  "
            ]
          },
          "metadata": {},
          "execution_count": 8
        }
      ]
    },
    {
      "cell_type": "code",
      "source": [
        "DF2 = dataframe2.sample(frac=1)\n",
        "print(DF2)"
      ],
      "metadata": {
        "colab": {
          "base_uri": "https://localhost:8080/"
        },
        "id": "YfEeZ7DvD5Cc",
        "outputId": "d6e59028-397c-4c09-dd4a-59c522cf5e36"
      },
      "execution_count": null,
      "outputs": [
        {
          "output_type": "stream",
          "name": "stdout",
          "text": [
            "                                               noticia  classificacao\n",
            "11   O governo federal iniciou as discussões com in...            0.0\n",
            "92   Agora, aquelas fotos tiradas com seu ou sua ex...            0.0\n",
            "55   Um levantamento da ONG ILGA-Europa apontou um ...            0.0\n",
            "102  A empresa de cibersegurança Kaspersky alertou ...            0.0\n",
            "25   As colombianas Shakira e Karol G lançaram, na ...            0.0\n",
            "..                                                 ...            ...\n",
            "38   Uma das pinturas do período azul de Pablo Pica...            0.0\n",
            "9    No primeiro dia do autoembargo do Brasil às ex...            0.0\n",
            "28   ACRÉSCIMOS FINAIS – Ele provoca, ele agita a t...            1.0\n",
            "66   O vice-presidente da República e ministro do D...            0.0\n",
            "36   O reconhecimento das qualidades arquitetônicas...            0.0\n",
            "\n",
            "[200 rows x 2 columns]\n"
          ]
        }
      ]
    },
    {
      "cell_type": "code",
      "source": [
        "DF2.isnull().sum()"
      ],
      "metadata": {
        "colab": {
          "base_uri": "https://localhost:8080/"
        },
        "id": "U7o5iw42D5A0",
        "outputId": "63e59b4e-c512-479b-cc9d-ff1b73fa5c1b"
      },
      "execution_count": null,
      "outputs": [
        {
          "output_type": "execute_result",
          "data": {
            "text/plain": [
              "noticia          0\n",
              "classificacao    0\n",
              "dtype: int64"
            ]
          },
          "metadata": {},
          "execution_count": 10
        }
      ]
    },
    {
      "cell_type": "code",
      "source": [
        "#Stemmer\n",
        "\n",
        "ps = PorterStemmer()\n",
        "def clean(texto):\n",
        "    texto = texto.lower()\n",
        "    texto = re.sub('[^a-zA-Z]', ' ',texto)\n",
        "    texto = texto.split()\n",
        "    texto = ' '.join(texto)\n",
        "    return texto"
      ],
      "metadata": {
        "id": "0H7GoEDAD4-L"
      },
      "execution_count": null,
      "outputs": []
    },
    {
      "cell_type": "code",
      "source": [
        "DF2['noticia'] = DF2['noticia'].apply(lambda x:clean(x))"
      ],
      "metadata": {
        "id": "PrxCovluEG3o"
      },
      "execution_count": null,
      "outputs": []
    },
    {
      "cell_type": "code",
      "source": [
        "DF2.head(5)"
      ],
      "metadata": {
        "colab": {
          "base_uri": "https://localhost:8080/",
          "height": 206
        },
        "id": "3g1N_KnmEG18",
        "outputId": "12835bcf-4c27-4160-eed9-515a8acb04dd"
      },
      "execution_count": null,
      "outputs": [
        {
          "output_type": "execute_result",
          "data": {
            "text/plain": [
              "                                               noticia  classificacao\n",
              "11   o governo federal iniciou as discuss es com in...            0.0\n",
              "92   agora aquelas fotos tiradas com seu ou sua ex ...            0.0\n",
              "55   um levantamento da ong ilga europa apontou um ...            0.0\n",
              "102  a empresa de ciberseguran a kaspersky alertou ...            0.0\n",
              "25   as colombianas shakira e karol g lan aram na n...            0.0"
            ],
            "text/html": [
              "\n",
              "  <div id=\"df-961b9f2d-fbfb-4626-aa00-438686066478\">\n",
              "    <div class=\"colab-df-container\">\n",
              "      <div>\n",
              "<style scoped>\n",
              "    .dataframe tbody tr th:only-of-type {\n",
              "        vertical-align: middle;\n",
              "    }\n",
              "\n",
              "    .dataframe tbody tr th {\n",
              "        vertical-align: top;\n",
              "    }\n",
              "\n",
              "    .dataframe thead th {\n",
              "        text-align: right;\n",
              "    }\n",
              "</style>\n",
              "<table border=\"1\" class=\"dataframe\">\n",
              "  <thead>\n",
              "    <tr style=\"text-align: right;\">\n",
              "      <th></th>\n",
              "      <th>noticia</th>\n",
              "      <th>classificacao</th>\n",
              "    </tr>\n",
              "  </thead>\n",
              "  <tbody>\n",
              "    <tr>\n",
              "      <th>11</th>\n",
              "      <td>o governo federal iniciou as discuss es com in...</td>\n",
              "      <td>0.0</td>\n",
              "    </tr>\n",
              "    <tr>\n",
              "      <th>92</th>\n",
              "      <td>agora aquelas fotos tiradas com seu ou sua ex ...</td>\n",
              "      <td>0.0</td>\n",
              "    </tr>\n",
              "    <tr>\n",
              "      <th>55</th>\n",
              "      <td>um levantamento da ong ilga europa apontou um ...</td>\n",
              "      <td>0.0</td>\n",
              "    </tr>\n",
              "    <tr>\n",
              "      <th>102</th>\n",
              "      <td>a empresa de ciberseguran a kaspersky alertou ...</td>\n",
              "      <td>0.0</td>\n",
              "    </tr>\n",
              "    <tr>\n",
              "      <th>25</th>\n",
              "      <td>as colombianas shakira e karol g lan aram na n...</td>\n",
              "      <td>0.0</td>\n",
              "    </tr>\n",
              "  </tbody>\n",
              "</table>\n",
              "</div>\n",
              "      <button class=\"colab-df-convert\" onclick=\"convertToInteractive('df-961b9f2d-fbfb-4626-aa00-438686066478')\"\n",
              "              title=\"Convert this dataframe to an interactive table.\"\n",
              "              style=\"display:none;\">\n",
              "        \n",
              "  <svg xmlns=\"http://www.w3.org/2000/svg\" height=\"24px\"viewBox=\"0 0 24 24\"\n",
              "       width=\"24px\">\n",
              "    <path d=\"M0 0h24v24H0V0z\" fill=\"none\"/>\n",
              "    <path d=\"M18.56 5.44l.94 2.06.94-2.06 2.06-.94-2.06-.94-.94-2.06-.94 2.06-2.06.94zm-11 1L8.5 8.5l.94-2.06 2.06-.94-2.06-.94L8.5 2.5l-.94 2.06-2.06.94zm10 10l.94 2.06.94-2.06 2.06-.94-2.06-.94-.94-2.06-.94 2.06-2.06.94z\"/><path d=\"M17.41 7.96l-1.37-1.37c-.4-.4-.92-.59-1.43-.59-.52 0-1.04.2-1.43.59L10.3 9.45l-7.72 7.72c-.78.78-.78 2.05 0 2.83L4 21.41c.39.39.9.59 1.41.59.51 0 1.02-.2 1.41-.59l7.78-7.78 2.81-2.81c.8-.78.8-2.07 0-2.86zM5.41 20L4 18.59l7.72-7.72 1.47 1.35L5.41 20z\"/>\n",
              "  </svg>\n",
              "      </button>\n",
              "      \n",
              "  <style>\n",
              "    .colab-df-container {\n",
              "      display:flex;\n",
              "      flex-wrap:wrap;\n",
              "      gap: 12px;\n",
              "    }\n",
              "\n",
              "    .colab-df-convert {\n",
              "      background-color: #E8F0FE;\n",
              "      border: none;\n",
              "      border-radius: 50%;\n",
              "      cursor: pointer;\n",
              "      display: none;\n",
              "      fill: #1967D2;\n",
              "      height: 32px;\n",
              "      padding: 0 0 0 0;\n",
              "      width: 32px;\n",
              "    }\n",
              "\n",
              "    .colab-df-convert:hover {\n",
              "      background-color: #E2EBFA;\n",
              "      box-shadow: 0px 1px 2px rgba(60, 64, 67, 0.3), 0px 1px 3px 1px rgba(60, 64, 67, 0.15);\n",
              "      fill: #174EA6;\n",
              "    }\n",
              "\n",
              "    [theme=dark] .colab-df-convert {\n",
              "      background-color: #3B4455;\n",
              "      fill: #D2E3FC;\n",
              "    }\n",
              "\n",
              "    [theme=dark] .colab-df-convert:hover {\n",
              "      background-color: #434B5C;\n",
              "      box-shadow: 0px 1px 3px 1px rgba(0, 0, 0, 0.15);\n",
              "      filter: drop-shadow(0px 1px 2px rgba(0, 0, 0, 0.3));\n",
              "      fill: #FFFFFF;\n",
              "    }\n",
              "  </style>\n",
              "\n",
              "      <script>\n",
              "        const buttonEl =\n",
              "          document.querySelector('#df-961b9f2d-fbfb-4626-aa00-438686066478 button.colab-df-convert');\n",
              "        buttonEl.style.display =\n",
              "          google.colab.kernel.accessAllowed ? 'block' : 'none';\n",
              "\n",
              "        async function convertToInteractive(key) {\n",
              "          const element = document.querySelector('#df-961b9f2d-fbfb-4626-aa00-438686066478');\n",
              "          const dataTable =\n",
              "            await google.colab.kernel.invokeFunction('convertToInteractive',\n",
              "                                                     [key], {});\n",
              "          if (!dataTable) return;\n",
              "\n",
              "          const docLinkHtml = 'Like what you see? Visit the ' +\n",
              "            '<a target=\"_blank\" href=https://colab.research.google.com/notebooks/data_table.ipynb>data table notebook</a>'\n",
              "            + ' to learn more about interactive tables.';\n",
              "          element.innerHTML = '';\n",
              "          dataTable['output_type'] = 'display_data';\n",
              "          await google.colab.output.renderOutput(dataTable, element);\n",
              "          const docLink = document.createElement('div');\n",
              "          docLink.innerHTML = docLinkHtml;\n",
              "          element.appendChild(docLink);\n",
              "        }\n",
              "      </script>\n",
              "    </div>\n",
              "  </div>\n",
              "  "
            ]
          },
          "metadata": {},
          "execution_count": 18
        }
      ]
    },
    {
      "cell_type": "code",
      "source": [
        "Xa = DF2['noticia']\n",
        "Ya = DF2['classificacao']"
      ],
      "metadata": {
        "id": "9mHaJXy4EGzT"
      },
      "execution_count": null,
      "outputs": []
    },
    {
      "cell_type": "code",
      "source": [
        "X2 = TfidfVectorizer().fit_transform(Xa)"
      ],
      "metadata": {
        "id": "zVNVK4fsEGtu"
      },
      "execution_count": null,
      "outputs": []
    },
    {
      "cell_type": "code",
      "source": [
        "X2.shape"
      ],
      "metadata": {
        "colab": {
          "base_uri": "https://localhost:8080/"
        },
        "id": "MPqSdg6iEGsE",
        "outputId": "d715fc4f-0af7-43a2-ff8d-a20eae38bb2f"
      },
      "execution_count": null,
      "outputs": [
        {
          "output_type": "execute_result",
          "data": {
            "text/plain": [
              "(200, 12650)"
            ]
          },
          "metadata": {},
          "execution_count": 16
        }
      ]
    },
    {
      "cell_type": "code",
      "source": [
        "xa_train, xa_test, ya_train, ya_test = train_test_split(X2, Ya, test_size = 0.25)"
      ],
      "metadata": {
        "id": "xI4d0DT7EXvI"
      },
      "execution_count": null,
      "outputs": []
    },
    {
      "cell_type": "code",
      "source": [
        "# Segundo treinamento KNN\n",
        "\n",
        "kn_model = KNeighborsClassifier(n_neighbors=5, weights='uniform', algorithm='brute')\n",
        "\n",
        "#Fitting training set to the model\n",
        "kn_model.fit(xa_train,ya_train)\n",
        "\n",
        "#Predicting the test set results based on the model\n",
        "akn_y_pred = kn_model.predict(xa_test)\n",
        "\n",
        "#Calculate the accuracy score of this model\n",
        "score_kna = accuracy_score(ya_test,akn_y_pred)\n",
        "print('Accuracy of Logistic Regression model is: ',round(score_kna*100,2),'%')\n",
        "# calculate prediction\n",
        "precision_kna = precision_score(ya_test, akn_y_pred, average = 'weighted')\n",
        "print('Precision of Logistic Regression model is: ',round(precision_kna*100,2),'%')\n",
        "# calculate f1 score\n",
        "f1_kna = f1_score(ya_test, akn_y_pred, average = 'weighted')\n",
        "print('F1 score of Logistic Regression model is: ',round(f1_kna*100,2),'%')\n",
        "# calculate recall\n",
        "recall_kna = recall_score(ya_test, akn_y_pred, average='weighted')\n",
        "print('recall  score of Logistic Regression model is: ',round(recall_kna*100,2),'%')"
      ],
      "metadata": {
        "id": "ApjsO8T_Z7re",
        "colab": {
          "base_uri": "https://localhost:8080/"
        },
        "outputId": "b07b9c7a-1c92-4108-90fb-cbbcffebc9d2"
      },
      "execution_count": null,
      "outputs": [
        {
          "output_type": "stream",
          "name": "stdout",
          "text": [
            "Accuracy of Logistic Regression model is:  74.0 %\n",
            "Precision of Logistic Regression model is:  81.68 %\n",
            "F1 score of Logistic Regression model is:  69.49 %\n",
            "recall  score of Logistic Regression model is:  74.0 %\n"
          ]
        }
      ]
    },
    {
      "cell_type": "code",
      "source": [
        "# Segundo treinamento arvore de decisão\n",
        "\n",
        "dt_model = DecisionTreeClassifier(criterion='gini', min_samples_leaf = 16, random_state=4)\n",
        "\n",
        "#Fitting training set to the model\n",
        "dt_model.fit(xa_train,ya_train)\n",
        "\n",
        "#Predicting the test set results based on the model\n",
        "dta_y_pred = dt_model.predict(xa_test)\n",
        "\n",
        "#Calculate the accuracy score of this model\n",
        "score_dta = accuracy_score(ya_test,dta_y_pred)\n",
        "print('Accuracy of Logistic Regression model is: ',round(score_dta*100,2),'%')\n",
        "# calculate prediction\n",
        "precision_dta = precision_score(ya_test, dta_y_pred, average = 'weighted')\n",
        "print('Precision of Logistic Regression model is: ',round(precision_dta*100,2),'%')\n",
        "# calculate f1 score\n",
        "f1_dta = f1_score(ya_test, dta_y_pred, average = 'weighted')\n",
        "print('F1 score of Logistic Regression model is: ',round(f1_dta*100,2),'%')\n",
        "# calculate recall\n",
        "recall_dta = recall_score(ya_test, dta_y_pred, average='weighted')\n",
        "print('recall  score of Logistic Regression model is: ',round(recall_dta*100,2),'%')"
      ],
      "metadata": {
        "id": "VYcAB1W6Z7vw",
        "colab": {
          "base_uri": "https://localhost:8080/"
        },
        "outputId": "b3b9e145-3f11-4513-85be-a8a66b5aaef1"
      },
      "execution_count": null,
      "outputs": [
        {
          "output_type": "stream",
          "name": "stdout",
          "text": [
            "Accuracy of Logistic Regression model is:  98.0 %\n",
            "Precision of Logistic Regression model is:  98.1 %\n",
            "F1 score of Logistic Regression model is:  98.01 %\n",
            "recall  score of Logistic Regression model is:  98.0 %\n"
          ]
        }
      ]
    },
    {
      "cell_type": "code",
      "source": [
        "# Segundo treinamento random forest\n",
        "\n",
        "RFC_model = RandomForestClassifier(criterion='gini', n_estimators=1000, max_depth=200, \n",
        "                                   min_samples_leaf=5, max_features = 'auto', random_state=1)\n",
        "#Fitting training set to the model\n",
        "RFC_model.fit(xa_train, ya_train)\n",
        "\n",
        "#Predicting the test set results based on the model\n",
        "arfc_y_pred = RFC_model.predict(xa_test)\n",
        "\n",
        "#Calculate the accuracy score of this model\n",
        "score_rfa = accuracy_score(ya_test, arfc_y_pred)\n",
        "print('Accuracy of random forest model is: ',round(score_rfa*100,2),'%')\n",
        "# calculate prediction\n",
        "precision_rfa = precision_score(ya_test, arfc_y_pred, average = 'weighted', labels=np.unique(arfc_y_pred))\n",
        "print('Precision of random forest model is: ',round(precision_rfa*100,2),'%')\n",
        "# calculate f1 score\n",
        "f1_rfa = f1_score(ya_test, arfc_y_pred, average = 'weighted', labels=np.unique(arfc_y_pred))\n",
        "print('F1 score of random forest model is: ',round(f1_rfa*100,2),'%')\n",
        "# calculate recall\n",
        "recall_rfa = recall_score(ya_test, arfc_y_pred, average='weighted', labels=np.unique(arfc_y_pred))\n",
        "print('recall  scoreof random forest model is: ',round(recall_rfa*100,2),'%')"
      ],
      "metadata": {
        "id": "4_uucEW0Z7uG",
        "colab": {
          "base_uri": "https://localhost:8080/"
        },
        "outputId": "3a75a354-ecf5-45cf-fce5-7a1d6d7edbd5"
      },
      "execution_count": null,
      "outputs": [
        {
          "output_type": "stream",
          "name": "stderr",
          "text": [
            "/usr/local/lib/python3.8/dist-packages/sklearn/ensemble/_forest.py:424: FutureWarning: `max_features='auto'` has been deprecated in 1.1 and will be removed in 1.3. To keep the past behaviour, explicitly set `max_features='sqrt'` or remove this parameter as it is also the default value for RandomForestClassifiers and ExtraTreesClassifiers.\n",
            "  warn(\n"
          ]
        },
        {
          "output_type": "stream",
          "name": "stdout",
          "text": [
            "Accuracy of random forest model is:  98.0 %\n",
            "Precision of random forest model is:  98.1 %\n",
            "F1 score of random forest model is:  98.01 %\n",
            "recall  scoreof random forest model is:  98.0 %\n"
          ]
        }
      ]
    },
    {
      "cell_type": "code",
      "source": [
        "# Segundo treinamento utilizando Adabost\n",
        "from sklearn.ensemble import AdaBoostClassifier\n",
        "Adab_model = AdaBoostClassifier(n_estimators=100, learning_rate=0.8, algorithm='SAMME', random_state=4)\n",
        "\n",
        "#Fitting training set to the model\n",
        "Adab_model.fit(xa_train,ya_train)\n",
        "\n",
        "#Predicting the test set results based on the model\n",
        "Adab_y_preda = Adab_model.predict(xa_test)\n",
        "\n",
        "#Calculate the accuracy score of this model\n",
        "score_Adaba = accuracy_score(ya_test,Adab_y_preda)\n",
        "print('Accuracy of Logistic Regression model is: ',round(score_Adaba*100,2),'%')\n",
        "# calculate prediction\n",
        "precision_Adaba = precision_score(ya_test, Adab_y_preda, average = 'weighted')\n",
        "print('Precision of Logistic Regression model is: ',round(precision_Adaba*100,2),'%')\n",
        "# calculate f1 score\n",
        "f1_Adaba = f1_score(ya_test, Adab_y_preda, average = 'weighted')\n",
        "print('F1 score of Logistic Regression model is: ',round(f1_Adaba*100,2),'%')\n",
        "# calculate recall\n",
        "recall_Adaba = recall_score(ya_test, Adab_y_preda, average='weighted')\n",
        "print('recall  score of Logistic Regression model is: ',round(recall_Adaba*100,2),'%')"
      ],
      "metadata": {
        "id": "RcPqmvUeZ7eW",
        "colab": {
          "base_uri": "https://localhost:8080/"
        },
        "outputId": "6bc91129-3f5c-4e47-dfb4-f4d5c064c1a0"
      },
      "execution_count": null,
      "outputs": [
        {
          "output_type": "stream",
          "name": "stdout",
          "text": [
            "Accuracy of Logistic Regression model is:  98.0 %\n",
            "Precision of Logistic Regression model is:  98.1 %\n",
            "F1 score of Logistic Regression model is:  98.01 %\n",
            "recall  score of Logistic Regression model is:  98.0 %\n"
          ]
        }
      ]
    },
    {
      "cell_type": "code",
      "source": [
        "# Segundo treinamento SVM utilizando SVC\n",
        "SVM_model = svm.SVC(C=5, kernel='sigmoid', gamma='scale', probability=False, tol=0.001, cache_size=1000, random_state=4)\n",
        "\n",
        "#Fitting training set to the model\n",
        "SVM_model.fit(xa_train,ya_train)\n",
        "\n",
        "#Predicting the test set results based on the model\n",
        "aSVM_y_pred = SVM_model.predict(xa_test)\n",
        "\n",
        "#Calculate the accuracy score of this model\n",
        "score_SVMa = accuracy_score(ya_test,aSVM_y_pred)\n",
        "print('Accuracy of Logistic Regression model is: ',round(score_SVMa*100,2),'%')\n",
        "# calculate prediction\n",
        "precision_SVMa = precision_score(ya_test, aSVM_y_pred, average = 'weighted')\n",
        "print('Precision of Logistic Regression model is: ',round(precision_SVMa*100,2),'%')\n",
        "# calculate f1 score\n",
        "f1_SVMa = f1_score(ya_test, aSVM_y_pred, average = 'weighted')\n",
        "print('F1 score of Logistic Regression model is: ',round(f1_SVMa*100,2),'%')\n",
        "# calculate recall\n",
        "recall_SVMa = recall_score(ya_test, aSVM_y_pred, average='weighted')\n",
        "print('recall  score of Logistic Regression model is: ',round(recall_SVMa*100,2),'%')"
      ],
      "metadata": {
        "id": "RXlzHP_vZ7io",
        "colab": {
          "base_uri": "https://localhost:8080/"
        },
        "outputId": "78f06c01-6f53-43bb-d0d0-b1322c03c867"
      },
      "execution_count": null,
      "outputs": [
        {
          "output_type": "stream",
          "name": "stdout",
          "text": [
            "Accuracy of Logistic Regression model is:  100.0 %\n",
            "Precision of Logistic Regression model is:  100.0 %\n",
            "F1 score of Logistic Regression model is:  100.0 %\n",
            "recall  score of Logistic Regression model is:  100.0 %\n"
          ]
        }
      ]
    },
    {
      "cell_type": "code",
      "source": [
        "# Segundo treinamento regressão logistica\n",
        "LR_model = LogisticRegression(tol=0.0001, fit_intercept=False, class_weight=None, solver='lbfgs', max_iter=300, random_state=4)\n",
        "\n",
        "#Fitting training set to the model\n",
        "LR_model.fit(xa_train,ya_train)\n",
        "\n",
        "#Predicting the test set results based on the model\n",
        "alr_y_pred = LR_model.predict(xa_test)\n",
        "\n",
        "#Calculate the accuracy score of this model\n",
        "score_lra = accuracy_score(ya_test,alr_y_pred)\n",
        "print('Accuracy of Logistic Regression model is: ',round(score_lra*100,2),'%')\n",
        "# calculate prediction\n",
        "precision_lra = precision_score(ya_test, alr_y_pred, average = 'weighted')\n",
        "print('Precision of Logistic Regression model is: ',round(precision_lra*100,2),'%')\n",
        "# calculate f1 score\n",
        "f1_lra = f1_score(ya_test, alr_y_pred, average = 'weighted')\n",
        "print('F1 score of Logistic Regression model is: ',round(f1_lra*100,2),'%')\n",
        "# calculate recall\n",
        "recall_lra = recall_score(ya_test, alr_y_pred, average='weighted')\n",
        "print('recall  score of Logistic Regression model is: ',round(recall_lra*100,2),'%')"
      ],
      "metadata": {
        "id": "TEJbnOt1Z7g9",
        "colab": {
          "base_uri": "https://localhost:8080/"
        },
        "outputId": "583a7407-2da6-4e5f-9c82-b69965367b73"
      },
      "execution_count": null,
      "outputs": [
        {
          "output_type": "stream",
          "name": "stdout",
          "text": [
            "Accuracy of Logistic Regression model is:  100.0 %\n",
            "Precision of Logistic Regression model is:  100.0 %\n",
            "F1 score of Logistic Regression model is:  100.0 %\n",
            "recall  score of Logistic Regression model is:  100.0 %\n"
          ]
        }
      ]
    },
    {
      "cell_type": "code",
      "source": [
        "# Segundo treinamento passiva agressiva\n",
        "PA_model = PassiveAggressiveClassifier(C = 10, max_iter=2000, n_iter_no_change = 600, random_state=4)\n",
        "\n",
        "#Fitting training set to the model\n",
        "PA_model.fit(xa_train,ya_train)\n",
        "\n",
        "#Predicting the test set results based on the model\n",
        "pa_ya_pred = PA_model.predict(xa_test)\n",
        "\n",
        "#Calculate the accuracy score of this model\n",
        "score_pa = accuracy_score(ya_test,pa_ya_pred)\n",
        "print('New accuracy of Logistic Regression model is: ',round(score_pa*100,2),'%')\n",
        "# calculate prediction\n",
        "precision_pa = precision_score(ya_test, pa_ya_pred, average = 'weighted')\n",
        "print('New precision of Logistic Regression model is: ',round(precision_pa*100,2),'%')\n",
        "# calculate f1 score\n",
        "f1_pa = f1_score(ya_test, pa_ya_pred, average = 'weighted')\n",
        "print('New F1 score of Logistic Regression model is: ',round(f1_pa*100,2),'%')\n",
        "# calculate recall\n",
        "recall_pa = recall_score(ya_test, pa_ya_pred, average='weighted')\n",
        "print('New recall  score of Logistic Regression model is: ',round(recall_pa*100,2),'%')"
      ],
      "metadata": {
        "id": "rpVliFBPe9DK",
        "colab": {
          "base_uri": "https://localhost:8080/"
        },
        "outputId": "33031971-baf0-4f19-e3cc-c6ec32cfe000"
      },
      "execution_count": null,
      "outputs": [
        {
          "output_type": "stream",
          "name": "stdout",
          "text": [
            "New accuracy of Logistic Regression model is:  100.0 %\n",
            "New precision of Logistic Regression model is:  100.0 %\n",
            "New F1 score of Logistic Regression model is:  100.0 %\n",
            "New recall  score of Logistic Regression model is:  100.0 %\n"
          ]
        }
      ]
    },
    {
      "cell_type": "code",
      "source": [
        "#Gráfico comparativo de F1 Score da base de revisão\n",
        "xa_pos = ('Passive Agressive','Support Vector Machine','Logistic Regression', 'Randon Forest', 'AdaBoost','Decision Tree','K Nearest Neighbors')\n",
        "ya_pos = [100,100,100,98,98,98,74]\n",
        "\n",
        "fig, ax = plt.subplots(figsize=(10, 8))\n",
        "plt.rcParams['font.size'] = 16\n",
        "\n",
        "habar = ax.barh(xa_pos, ya_pos, align='center', alpha=0.6, color = 'red', capsize = 12)\n",
        "ax.set_xlabel('Em porcentagem %')\n",
        "ax.set_title('Comparativo do F1_score dos métodos utilizados')\n",
        "ax.grid(which='both', axis='x',linestyle='-.')\n",
        "\n",
        "# Label with specially formatted floats\n",
        "ax.bar_label(habar, fmt='%.1f%%', size=14, label_type=\"edge\", padding=3)\n",
        "ax.set_xlim(right=112)  # adjust xlim to fit labels"
      ],
      "metadata": {
        "colab": {
          "base_uri": "https://localhost:8080/",
          "height": 547
        },
        "id": "mElwQNGvlVby",
        "outputId": "3cd30c8a-2a15-43bf-8e03-5866ae0ae662"
      },
      "execution_count": null,
      "outputs": [
        {
          "output_type": "execute_result",
          "data": {
            "text/plain": [
              "(0.0, 112.0)"
            ]
          },
          "metadata": {},
          "execution_count": 3
        },
        {
          "output_type": "display_data",
          "data": {
            "text/plain": [
              "<Figure size 720x576 with 1 Axes>"
            ],
            "image/png": "[encoded data removed]"
          },
          "metadata": {
            "needs_background": "light"
          }
        }
      ]
    },
    {
      "cell_type": "code",
      "source": [
        "#gráfico combinado"
      ],
      "metadata": {
        "id": "-_1NxKke-sXp"
      },
      "execution_count": null,
      "outputs": []
    },
    {
      "cell_type": "code",
      "source": [
        "txa_pos = ('Passive Agressive','Support Vector Machine', 'Logistic Regression', 'Randon Forest', 'AdaBoost','Decision Tree','K Nearest Neighbors')\n",
        "tya_pos = [100,100,100,98,98,98,74]\n",
        "\n",
        "plt.figure(figsize=(10, 8))\n",
        "dy_pos = []\n",
        "plt.rcParams['font.size'] = 16\n",
        "\n",
        "for i, j in zip(tya_pos,y_pos):\n",
        "     dy_pos.append(i - j)\n",
        "\n",
        "part1 = []\n",
        "for e in range (0,7):\n",
        "  part1.append(('Aumento de +',str(round(dy_pos[e],1)),'%'))\n",
        "\n",
        "label = []\n",
        "for l in range (0,7):\n",
        "  label.append(' '.join(part1[l]))\n",
        "\n",
        "fig, ax = plt.subplots(figsize=(10, 8))\n",
        "plt.rcParams['font.size'] = 17\n",
        "\n",
        "hcbar = ax.barh(x_pos, y_pos, alpha=0.6, height = 0.8, color='blue', capsize = 12)\n",
        "hccbar = ax.barh(x_pos, dy_pos, left=y_pos, height = 0.8, alpha=0.3, color='green', capsize = 12)\n",
        "ax.set_xlabel('Em porcentagem %')\n",
        "ax.set_title('Comparativo do F1_score entre as bases de dados')\n",
        "ax.grid(which='both', axis='x',linestyle='-.')\n",
        "\n",
        "# Label with specially formatted floats\n",
        "ax.bar_label(hccbar, labels = label, size=14, label_type=\"center\", padding=-25, color='darkred')\n",
        "ax.set_xlim(right=110)  # adjust xlim to fit labels"
      ],
      "metadata": {
        "colab": {
          "base_uri": "https://localhost:8080/",
          "height": 565
        },
        "id": "jv42Z7REv9vZ",
        "outputId": "42a3805a-a1d5-4a08-962e-698386eb336a"
      },
      "execution_count": null,
      "outputs": [
        {
          "output_type": "execute_result",
          "data": {
            "text/plain": [
              "(0.0, 110.0)"
            ]
          },
          "metadata": {},
          "execution_count": 5
        },
        {
          "output_type": "display_data",
          "data": {
            "text/plain": [
              "<Figure size 720x576 with 0 Axes>"
            ]
          },
          "metadata": {}
        },
        {
          "output_type": "display_data",
          "data": {
            "text/plain": [
              "<Figure size 720x576 with 1 Axes>"
            ],
            "image/png": "[encoded data removed]"
          },
          "metadata": {
            "needs_background": "light"
          }
        }
      ]
    }
  ]
}